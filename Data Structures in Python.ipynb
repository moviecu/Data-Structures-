{
 "cells": [
  {
   "cell_type": "markdown",
   "metadata": {},
   "source": [
    "### Assignment: Data Structures in Python"
   ]
  },
  {
   "cell_type": "markdown",
   "metadata": {},
   "source": [
    "##### 1. Write a code to reverse a string."
   ]
  },
  {
   "cell_type": "code",
   "execution_count": 1,
   "metadata": {},
   "outputs": [
    {
     "data": {
      "text/plain": [
       "'ramuK keviV'"
      ]
     },
     "execution_count": 1,
     "metadata": {},
     "output_type": "execute_result"
    }
   ],
   "source": [
    "def reverse_string(s):\n",
    "    return s[::-1]\n",
    "\n",
    "#example\n",
    "reverse_string(\"Vivek Kumar\")"
   ]
  },
  {
   "cell_type": "markdown",
   "metadata": {},
   "source": [
    "##### 2. Write a code to count the number of vowels in a string."
   ]
  },
  {
   "cell_type": "code",
   "execution_count": 1,
   "metadata": {},
   "outputs": [
    {
     "data": {
      "text/plain": [
       "4"
      ]
     },
     "execution_count": 1,
     "metadata": {},
     "output_type": "execute_result"
    }
   ],
   "source": [
    "def count_vowels(s):\n",
    "    vowels=\"aeiouAEIOU\"\n",
    "    count=0\n",
    "    for char in s:\n",
    "        if char in vowels:\n",
    "            count+=1\n",
    "    return count\n",
    "\n",
    "\n",
    "# Example\n",
    "count_vowels('Vivek Kumar')"
   ]
  },
  {
   "cell_type": "markdown",
   "metadata": {},
   "source": [
    "##### 3. Write a code to check if a given string is a palindrome or not."
   ]
  },
  {
   "cell_type": "code",
   "execution_count": 3,
   "metadata": {},
   "outputs": [
    {
     "data": {
      "text/plain": [
       "True"
      ]
     },
     "execution_count": 3,
     "metadata": {},
     "output_type": "execute_result"
    }
   ],
   "source": [
    "def is_palindrone(s):\n",
    "    return s==s[::-1]\n",
    "\n",
    "\n",
    "#Example\n",
    "is_palindrone(\"madam\")"
   ]
  },
  {
   "cell_type": "markdown",
   "metadata": {},
   "source": [
    "##### 4. Write a code to check if two given strings are anagrams of each other."
   ]
  },
  {
   "cell_type": "code",
   "execution_count": 4,
   "metadata": {},
   "outputs": [
    {
     "data": {
      "text/plain": [
       "True"
      ]
     },
     "execution_count": 4,
     "metadata": {},
     "output_type": "execute_result"
    }
   ],
   "source": [
    "def are_arangram(s1,s2):\n",
    "    return sorted(s1)==sorted(s2)\n",
    "\n",
    "\n",
    "#Example\n",
    "are_arangram(\"vivek\", \"ekviv\")"
   ]
  },
  {
   "cell_type": "markdown",
   "metadata": {},
   "source": [
    "##### 5. Write a code to find all occurrences of a given substring within another string."
   ]
  },
  {
   "cell_type": "code",
   "execution_count": 5,
   "metadata": {},
   "outputs": [
    {
     "name": "stdout",
     "output_type": "stream",
     "text": [
      "[0, 10]\n"
     ]
    }
   ],
   "source": [
    "def find_substring_occurrence(s, sub):\n",
    "    start=0\n",
    "    while True:\n",
    "        start=s.find(sub, start)\n",
    "        if start==-1:\n",
    "            break\n",
    "        yield start\n",
    "        start +=1\n",
    "\n",
    "#Example\n",
    "print(list(find_substring_occurrence(\"vivekvermavivek\", \"vivek\")))"
   ]
  },
  {
   "cell_type": "markdown",
   "metadata": {},
   "source": [
    "##### 6. Write a code to perform basic string compression using the counts of repeated characters."
   ]
  },
  {
   "cell_type": "code",
   "execution_count": 11,
   "metadata": {},
   "outputs": [
    {
     "name": "stdout",
     "output_type": "stream",
     "text": [
      "The Frequency of characters is: {'v': 3, 'i': 1, 'e': 2, 'k': 2, 'u': 1, 'm': 2, 'a': 2, 'r': 2}\n"
     ]
    }
   ],
   "source": [
    "def compression_string(s):\n",
    "    # Convert the input string into a list of characters\n",
    "    words = list(s)\n",
    "\n",
    "    # Initialize an empty dictionary to store character counts\n",
    "    dict = {}\n",
    "\n",
    "    # Iterate through the list of characters and count occurrences\n",
    "    for key in words:\n",
    "        dict[key] = words.count(key)\n",
    "\n",
    "    # Create the compressed string using the counts stored in the dictionary\n",
    "    compressed = []\n",
    "    for key in dict:\n",
    "        compressed.append(key + str(dict[key]))\n",
    "\n",
    "    # Join the list into a single string and print the result\n",
    "    compressed_string = ''.join(compressed)\n",
    "    print(\"The Frequency of characters is:\", dict)\n",
    "\n",
    "# Example\n",
    "compression_string(\"vivekkumarverma\")  \n"
   ]
  },
  {
   "cell_type": "markdown",
   "metadata": {},
   "source": [
    "##### 7. Write a code to determine if a string has all unique characters."
   ]
  },
  {
   "cell_type": "code",
   "execution_count": 16,
   "metadata": {},
   "outputs": [
    {
     "data": {
      "text/plain": [
       "(True, False)"
      ]
     },
     "execution_count": 16,
     "metadata": {},
     "output_type": "execute_result"
    }
   ],
   "source": [
    "def all_unique_chars(s):\n",
    "    return len(set(s))==len(s)\n",
    "\n",
    "# Example\n",
    "all_unique_chars(\"abcdef\"), all_unique_chars(\"vivek\")"
   ]
  },
  {
   "cell_type": "markdown",
   "metadata": {},
   "source": [
    "##### 8. Write a code to convert a given string to uppercase or lowercase."
   ]
  },
  {
   "cell_type": "code",
   "execution_count": 17,
   "metadata": {},
   "outputs": [
    {
     "data": {
      "text/plain": [
       "('HELLO', 'hello')"
      ]
     },
     "execution_count": 17,
     "metadata": {},
     "output_type": "execute_result"
    }
   ],
   "source": [
    "def covert_case(s, to_upper=True):\n",
    "    return s.upper() if to_upper else s.lower()\n",
    "\n",
    "#Example\n",
    "covert_case(\"Hello\", True), covert_case(\"Hello\", False)"
   ]
  },
  {
   "cell_type": "markdown",
   "metadata": {},
   "source": [
    "##### 9. Write a code to count the number of words in a string."
   ]
  },
  {
   "cell_type": "code",
   "execution_count": 18,
   "metadata": {},
   "outputs": [
    {
     "data": {
      "text/plain": [
       "2"
      ]
     },
     "execution_count": 18,
     "metadata": {},
     "output_type": "execute_result"
    }
   ],
   "source": [
    "def count_the_number_of_words(s):\n",
    "    return len(s.split())\n",
    "\n",
    "#Example\n",
    "count_the_number_of_words(\"Vivek Kumar\")"
   ]
  },
  {
   "cell_type": "markdown",
   "metadata": {},
   "source": [
    "##### 10. Write a code to concatenate two strings without using the + operator."
   ]
  },
  {
   "cell_type": "code",
   "execution_count": 20,
   "metadata": {},
   "outputs": [
    {
     "data": {
      "text/plain": [
       "'Vivek Kumar'"
      ]
     },
     "execution_count": 20,
     "metadata": {},
     "output_type": "execute_result"
    }
   ],
   "source": [
    "def concatenate_string(v1,v2):\n",
    "    return \"{}{}\".format(v1,v2)\n",
    "\n",
    "#Example\n",
    "concatenate_string(\"Vivek\", \" Kumar\")\n"
   ]
  },
  {
   "cell_type": "markdown",
   "metadata": {},
   "source": [
    "##### 11. Write a code to remove all occurrences of a specific element from a list."
   ]
  },
  {
   "cell_type": "code",
   "execution_count": 22,
   "metadata": {},
   "outputs": [
    {
     "data": {
      "text/plain": [
       "[2, 3, 4]"
      ]
     },
     "execution_count": 22,
     "metadata": {},
     "output_type": "execute_result"
    }
   ],
   "source": [
    "def remove_element(lst, element):\n",
    "    return[ x for x in lst if x !=element]\n",
    "\n",
    "\n",
    "#Example\n",
    "remove_element([1,2,3,1,4],1)"
   ]
  },
  {
   "cell_type": "markdown",
   "metadata": {},
   "source": [
    "##### 12. Implement a code to find the second largest number in a given list of integers."
   ]
  },
  {
   "cell_type": "code",
   "execution_count": 1,
   "metadata": {},
   "outputs": [
    {
     "data": {
      "text/plain": [
       "11"
      ]
     },
     "execution_count": 1,
     "metadata": {},
     "output_type": "execute_result"
    }
   ],
   "source": [
    "def second_largest(lst):\n",
    "    first= second = float(\"-inf\")\n",
    "    for x in lst:\n",
    "        if x > first:\n",
    "            second=first\n",
    "            first=x\n",
    "        elif x> second and x !=first:\n",
    "            second = x\n",
    "    return second\n",
    "\n",
    "# Example\n",
    "second_largest([1,2,5,8,9,11,15])"
   ]
  },
  {
   "cell_type": "markdown",
   "metadata": {},
   "source": [
    "##### 13. Create a code to count the occurrences of each element in a list and return a dictionary with elements as keys and their counts as values."
   ]
  },
  {
   "cell_type": "code",
   "execution_count": 2,
   "metadata": {},
   "outputs": [
    {
     "data": {
      "text/plain": [
       "{1: 1, 2: 3, 3: 2, 4: 1, 5: 1, 6: 2}"
      ]
     },
     "execution_count": 2,
     "metadata": {},
     "output_type": "execute_result"
    }
   ],
   "source": [
    "def count_occurrence(lst):\n",
    "    count_dict={}\n",
    "    for elem in lst:\n",
    "        count_dict[elem]= count_dict.get(elem,0)+1\n",
    "\n",
    "    return count_dict\n",
    "\n",
    "\n",
    "# Example \n",
    "count_occurrence([1,2,2,2,3,3,4,5,6,6])"
   ]
  },
  {
   "cell_type": "markdown",
   "metadata": {},
   "source": [
    "##### 14. Write a code to reverse a list in-place without using any built-in reverse functions."
   ]
  },
  {
   "cell_type": "code",
   "execution_count": 11,
   "metadata": {},
   "outputs": [
    {
     "data": {
      "text/plain": [
       "[5, 3, 2, 7, 5, 4]"
      ]
     },
     "execution_count": 11,
     "metadata": {},
     "output_type": "execute_result"
    }
   ],
   "source": [
    "def reverse_list(lst):\n",
    "    start, end=0, len(lst)-1\n",
    "    while start < end:\n",
    "        lst[start], lst[end]= lst[end], lst[start]\n",
    "        start +=1\n",
    "        end -=1\n",
    "    return lst\n",
    "\n",
    "#Example\n",
    "reverse_list([4,5,7,2,3,5])"
   ]
  },
  {
   "cell_type": "markdown",
   "metadata": {},
   "source": [
    "##### 15. Implement a code to find and remove duplicates from a list while preserving the original order of elements."
   ]
  },
  {
   "cell_type": "code",
   "execution_count": 12,
   "metadata": {},
   "outputs": [
    {
     "data": {
      "text/plain": [
       "[1, 2, 5, 8, 9, 6, 3]"
      ]
     },
     "execution_count": 12,
     "metadata": {},
     "output_type": "execute_result"
    }
   ],
   "source": [
    "def remove_duplicates(lst):\n",
    "    seen= set()\n",
    "    result= []\n",
    "    for item in lst:\n",
    "        if item not in seen:\n",
    "            seen.add(item)\n",
    "            result.append(item)\n",
    "\n",
    "    return result\n",
    "\n",
    "#Example\n",
    "remove_duplicates([1,2,2,5,5,8,9,6,6,3])"
   ]
  },
  {
   "cell_type": "markdown",
   "metadata": {},
   "source": [
    "##### 16. Create a code to check if a given list is sorted (either in ascending or descending order) or not."
   ]
  },
  {
   "cell_type": "code",
   "execution_count": 4,
   "metadata": {},
   "outputs": [
    {
     "data": {
      "text/plain": [
       "(True, True, False)"
      ]
     },
     "execution_count": 4,
     "metadata": {},
     "output_type": "execute_result"
    }
   ],
   "source": [
    "def is_sorted(lst):\n",
    "    return lst==sorted(lst) or lst==sorted(lst,reverse=True)\n",
    "\n",
    "#Example\n",
    "is_sorted([1,2,3,4,5]), is_sorted([5,4,3,2,1]), is_sorted([3,1,2,4,8])"
   ]
  },
  {
   "cell_type": "markdown",
   "metadata": {},
   "source": [
    "##### 17. Write a code to merge two sorted lists into a single sorted list."
   ]
  },
  {
   "cell_type": "code",
   "execution_count": 3,
   "metadata": {},
   "outputs": [
    {
     "data": {
      "text/plain": [
       "[1, 2, 3, 4, 5, 6]"
      ]
     },
     "execution_count": 3,
     "metadata": {},
     "output_type": "execute_result"
    }
   ],
   "source": [
    "def merge_sorted_lists(lst1,lst2):\n",
    "    result=[]\n",
    "    i=j=0\n",
    "    while i < len(lst1) and j< len(lst2):\n",
    "        if lst1[i]< lst2[j]:\n",
    "            result.append(lst1[i])\n",
    "            i+=1\n",
    "        else:\n",
    "            result.append(lst2[j])\n",
    "            j+=1\n",
    "    result.extend(lst1[i:])\n",
    "    result.extend(lst2[j:])\n",
    "    return result\n",
    "\n",
    "#Example\n",
    "merge_sorted_lists([1,3,5],[2,4,6]) "
   ]
  },
  {
   "cell_type": "markdown",
   "metadata": {},
   "source": [
    "##### 18. Implement a code to find the intersection of two given lists."
   ]
  },
  {
   "cell_type": "code",
   "execution_count": 4,
   "metadata": {},
   "outputs": [
    {
     "data": {
      "text/plain": [
       "[8, 4, 5]"
      ]
     },
     "execution_count": 4,
     "metadata": {},
     "output_type": "execute_result"
    }
   ],
   "source": [
    "def intersection_of_two(lst1,lst2):\n",
    "    return list(set(lst1)& set(lst2))\n",
    "\n",
    "#Example \n",
    "intersection_of_two([8,5,6,4,1],[4,8,5,9,10])"
   ]
  },
  {
   "cell_type": "markdown",
   "metadata": {},
   "source": [
    "##### 19. Create a code to find the union of two lists without duplicates."
   ]
  },
  {
   "cell_type": "code",
   "execution_count": 5,
   "metadata": {},
   "outputs": [
    {
     "data": {
      "text/plain": [
       "[1, 2, 4, 5, 6, 8]"
      ]
     },
     "execution_count": 5,
     "metadata": {},
     "output_type": "execute_result"
    }
   ],
   "source": [
    "def union_of_two(lst1,lst2):\n",
    "    return list(set(lst1).union(set(lst2)))\n",
    "\n",
    "\n",
    "#Example\n",
    "union_of_two([8,5,6,1],[8,4,6,2])"
   ]
  },
  {
   "cell_type": "markdown",
   "metadata": {},
   "source": [
    "##### 20. Write a code to shuffle a given list randomly without using any built-in shuffle functions."
   ]
  },
  {
   "cell_type": "code",
   "execution_count": 6,
   "metadata": {},
   "outputs": [
    {
     "name": "stdout",
     "output_type": "stream",
     "text": [
      "Shuffled list: [3, 8, 5, 2, 9, 11, 1]\n"
     ]
    }
   ],
   "source": [
    "import random\n",
    "\n",
    "def Shuffle_list(lst):\n",
    "    n=len(lst)\n",
    "    for i in range(n-1,0,-1):\n",
    "        j=random.randint(0,1)\n",
    "        # Swap lst[i] with lst[j]\n",
    "        lst[i],lst[j]=lst[j],lst[i]\n",
    "\n",
    "#Example\n",
    "my_list=[1,2,3,5,8,9,11]\n",
    "Shuffle_list(my_list)\n",
    "print(\"Shuffled list:\", my_list)"
   ]
  },
  {
   "cell_type": "markdown",
   "metadata": {},
   "source": [
    "##### 21. Write a code that takes two tuples as input and returns a new tuple containing elements that are common to both input tuples."
   ]
  },
  {
   "cell_type": "code",
   "execution_count": 7,
   "metadata": {},
   "outputs": [
    {
     "data": {
      "text/plain": [
       "(9, 2, 5)"
      ]
     },
     "execution_count": 7,
     "metadata": {},
     "output_type": "execute_result"
    }
   ],
   "source": [
    "def common_element(t1,t2):\n",
    "    return tuple(set(t1).intersection(set(t2)))\n",
    "\n",
    "#Example\n",
    "common_element((4,8,5,9,2,3),(5,9,2,11,6,))"
   ]
  },
  {
   "cell_type": "markdown",
   "metadata": {},
   "source": [
    "##### 22. Create a code that prompts the user to enter two sets of integers separated by commas. Then, print the intersection of these two sets."
   ]
  },
  {
   "cell_type": "code",
   "execution_count": 8,
   "metadata": {},
   "outputs": [
    {
     "name": "stdout",
     "output_type": "stream",
     "text": [
      "The intersection of the two sets is: {3, 4, 5, 6}\n"
     ]
    }
   ],
   "source": [
    "def get_integer_set(prompt):\n",
    "    return set(map(int, input(prompt).split(',')))\n",
    "\n",
    "# Prompt the user to enter two sets of integers\n",
    "set1 = get_integer_set(\"Enter the first set of integers, separated by commas: \")\n",
    "set2 = get_integer_set(\"Enter the second set of integers, separated by commas: \")\n",
    "\n",
    "\n",
    "intersection = set1 & set2\n",
    "\n",
    "\n",
    "print(\"The intersection of the two sets is:\", intersection)\n"
   ]
  },
  {
   "cell_type": "markdown",
   "metadata": {},
   "source": [
    "##### 23. Write a code to concatenate two tuples. The function should take two tuples as input and return a new tuple containing elements from both input tuples."
   ]
  },
  {
   "cell_type": "code",
   "execution_count": 12,
   "metadata": {},
   "outputs": [
    {
     "data": {
      "text/plain": [
       "(4, 5, 6, 8, 'vivek', 'Kumar', 85.23)"
      ]
     },
     "execution_count": 12,
     "metadata": {},
     "output_type": "execute_result"
    }
   ],
   "source": [
    "def concatenate_two_tuple(t1,t2):\n",
    "    return t1+t2\n",
    "\n",
    "#Example\n",
    "concatenate_two_tuple((4,5,6,8), (\"vivek\", \"Kumar\", 85.23))"
   ]
  },
  {
   "cell_type": "markdown",
   "metadata": {},
   "source": [
    "##### 24. Develop a code that prompts the user to input two sets of strings. Then, print the elements that are present in the first set but not in the second set."
   ]
  },
  {
   "cell_type": "code",
   "execution_count": 14,
   "metadata": {},
   "outputs": [
    {
     "name": "stdout",
     "output_type": "stream",
     "text": [
      "{' 5', '\"Vivek\"'}\n"
     ]
    }
   ],
   "source": [
    "def set_difference(s1,s2):\n",
    "    return s1-s2\n",
    "\n",
    "#Example\n",
    "s1= set(input(\"Enter first set of: \").split(','))\n",
    "s2= set(input(\"Enter second set of :\").split(\",\"))\n",
    "print(set_difference(s1,s2))\n",
    "\n"
   ]
  },
  {
   "cell_type": "markdown",
   "metadata": {},
   "source": [
    "##### 25. Create a code that takes a tuple and two integers as input. The function should return a new tuple containing elements from the original tuple within the specified range of indices."
   ]
  },
  {
   "cell_type": "code",
   "execution_count": 16,
   "metadata": {},
   "outputs": [
    {
     "name": "stdout",
     "output_type": "stream",
     "text": [
      "(2, 3, 4, 5, 8)\n"
     ]
    }
   ],
   "source": [
    "def slice_tuple(t,start,end):\n",
    "    return t[start:end+1]\n",
    "\n",
    "#Example\n",
    "print(slice_tuple((1,2,3,4,5,8,9,4,2),1,5))"
   ]
  },
  {
   "cell_type": "markdown",
   "metadata": {},
   "source": [
    "##### 26. Write a code that prompts the user to input two sets of characters. Then, print the union of these two sets."
   ]
  },
  {
   "cell_type": "code",
   "execution_count": 24,
   "metadata": {},
   "outputs": [
    {
     "name": "stdout",
     "output_type": "stream",
     "text": [
      "{'6', '9', '8', '5', '4', '1', '2', '3'}\n"
     ]
    }
   ],
   "source": [
    "def set_union(s1,s2):\n",
    "    s1= set(input(\"Enter first set of charactrs: \").split(','))\n",
    "    s2= set(input(\"Enter second set of character: \").split(','))\n",
    "    combine_set= print(s1.union(s2))\n",
    "    return combine_set\n",
    "\n",
    "#Example\n",
    "set_union(s1,s2)"
   ]
  },
  {
   "cell_type": "markdown",
   "metadata": {},
   "source": [
    "##### 27. Develop a code that takes a tuple of integers as input. The function should return the maximum and minimum values from the tuple using tuple unpacking."
   ]
  },
  {
   "cell_type": "code",
   "execution_count": 29,
   "metadata": {},
   "outputs": [
    {
     "name": "stdout",
     "output_type": "stream",
     "text": [
      "Maximum: 68, Minimum: 4\n"
     ]
    }
   ],
   "source": [
    "def Max_min(t):\n",
    "    return( f'Maximum: {max(t)}, Minimum: {min(t)}')\n",
    "\n",
    "# Example\n",
    "print(Max_min((8,5,68,4,12)))"
   ]
  },
  {
   "cell_type": "markdown",
   "metadata": {},
   "source": [
    "##### 28. Create a code that defines two sets of integers. Then, print the union, intersection, and difference of these two sets."
   ]
  },
  {
   "cell_type": "code",
   "execution_count": 35,
   "metadata": {},
   "outputs": [
    {
     "name": "stdout",
     "output_type": "stream",
     "text": [
      "Intersection of sets: {9, 5, 'vivek'}, \n",
      "Union of sets: {5, 8, 9, 10, 12.5, 13, 20, '12.5', 'vivek'}, \n",
      "Difference of sets: {8, 12.5, '12.5'}\n"
     ]
    }
   ],
   "source": [
    "def set_operations(s1,s2):\n",
    "    Value_of_set=print( f\"Intersection of sets: { s1 & s2}, \\nUnion of sets: {s1 | s2}, \\nDifference of sets: {s1-s2}\")\n",
    "    return Value_of_set\n",
    "\n",
    "#Example:\n",
    "s1={ \"vivek\", \"12.5\", 5, 8, 9, 12.5}\n",
    "s2={\"vivek\", 5,9,10,20,13}\n",
    "\n",
    "set_operations(s1,s2)"
   ]
  },
  {
   "cell_type": "markdown",
   "metadata": {},
   "source": [
    "##### 29. Write a code that takes a tuple and an element as input. The function should return the count of occurrences of the given element in the tuple."
   ]
  },
  {
   "cell_type": "code",
   "execution_count": 39,
   "metadata": {},
   "outputs": [
    {
     "name": "stdout",
     "output_type": "stream",
     "text": [
      "3\n"
     ]
    }
   ],
   "source": [
    "def count_element(t, elem):\n",
    "    return t.count(elem)\n",
    "\n",
    "#Examle:\n",
    "print(count_element((1,5,5,5,8,9,9,0,1,1),5))\n"
   ]
  },
  {
   "cell_type": "markdown",
   "metadata": {},
   "source": [
    "##### 30. Develop a code that prompts the user to input two sets of strings. Then, print the symmetric difference of these two sets."
   ]
  },
  {
   "cell_type": "code",
   "execution_count": 44,
   "metadata": {},
   "outputs": [
    {
     "name": "stdout",
     "output_type": "stream",
     "text": [
      "{' sita', ' ram ', ' kumar', ' shyam'}\n"
     ]
    }
   ],
   "source": [
    "def symmetric_difference(s1, s2):\n",
    "    return s1 ^ s2\n",
    "\n",
    "# Example\n",
    "s1 = set(input(\"Enter first set of strings: \").split(','))\n",
    "s2 = set(input(\"Enter second set of strings: \").split(','))\n",
    "print(symmetric_difference(s1, s2))\n"
   ]
  },
  {
   "cell_type": "markdown",
   "metadata": {},
   "source": [
    "##### 31. Write a code that takes a list of words as input and returns a dictionary where the keys are unique words and the values are the frequencies of those words in the input list"
   ]
  },
  {
   "cell_type": "code",
   "execution_count": 1,
   "metadata": {},
   "outputs": [
    {
     "data": {
      "text/plain": [
       "{'vivek': 2, 'ram': 2, 1: 3, 5: 1, 'krishna': 1}"
      ]
     },
     "execution_count": 1,
     "metadata": {},
     "output_type": "execute_result"
    }
   ],
   "source": [
    "def word_frequency(words):\n",
    "    freq={}\n",
    "    for word in words:\n",
    "        freq[word]=freq.get(word,0)+1\n",
    "    return freq\n",
    "\n",
    "#Example\n",
    "word_frequency([\"vivek\", \"ram\", 'ram', 1,5,1,1,\"vivek\", \"krishna\"])"
   ]
  },
  {
   "cell_type": "markdown",
   "metadata": {},
   "source": [
    "##### 32. Write a code that takes two dictionaries as input and merges them into a single dictionary. If there are common keys, the values should be added together."
   ]
  },
  {
   "cell_type": "code",
   "execution_count": 4,
   "metadata": {},
   "outputs": [
    {
     "data": {
      "text/plain": [
       "{'a': 1, 'b': 5, 'c': 4}"
      ]
     },
     "execution_count": 4,
     "metadata": {},
     "output_type": "execute_result"
    }
   ],
   "source": [
    "def merge_dictionaries(d1,d2):\n",
    "    merged= d1.copy()\n",
    "    for k, v in d2.items():\n",
    "        merged[k]=merged.get(k,0)+v\n",
    "    return merged\n",
    "\n",
    "#Example\n",
    "merge_dictionaries({\"a\":1, \"b\":2}, {\"b\":3, \"c\":4})\n"
   ]
  },
  {
   "cell_type": "markdown",
   "metadata": {},
   "source": [
    "##### 33. Write a code to access a value in a nested dictionary. The function should take the dictionary and a list of keys as input, and return the corresponding value. If any of the keys do not exist in the dictionary, the function should return None."
   ]
  },
  {
   "cell_type": "code",
   "execution_count": 7,
   "metadata": {},
   "outputs": [
    {
     "data": {
      "text/plain": [
       "(1, None)"
      ]
     },
     "execution_count": 7,
     "metadata": {},
     "output_type": "execute_result"
    }
   ],
   "source": [
    "def access_nested_dict(d,keys):\n",
    "    for key in keys:\n",
    "        if d is not None:\n",
    "            d=d.get(key)\n",
    "        else:\n",
    "            return None\n",
    "    return d\n",
    "\n",
    "#Example\n",
    "nested_dict={\"a\":{\"b\":{\"c\":1}}}\n",
    "access_nested_dict(nested_dict,[\"a\",\"b\",\"c\"]), access_nested_dict(nested_dict,[\"a\",\"b\",\"d\"])\n"
   ]
  },
  {
   "cell_type": "markdown",
   "metadata": {},
   "source": [
    "##### 34. Write a code that takes a dictionary as input and returns a sorted version of it based on the values. You can choose whether to sort in ascending or descending order."
   ]
  },
  {
   "cell_type": "code",
   "execution_count": 8,
   "metadata": {},
   "outputs": [
    {
     "data": {
      "text/plain": [
       "{'b': 1, 'c': 2, 'a': 3}"
      ]
     },
     "execution_count": 8,
     "metadata": {},
     "output_type": "execute_result"
    }
   ],
   "source": [
    "def sort_dict_by_value(d, reverse=False):\n",
    "    return dict(sorted(d.items(), key=lambda item: item[1], reverse=reverse))\n",
    "\n",
    "#Example:\n",
    "sort_dict_by_value({'a': 3, \"b\": 1, \"c\":2})"
   ]
  },
  {
   "cell_type": "markdown",
   "metadata": {},
   "source": [
    "##### 35. Write a code that inverts a dictionary, swapping keys and values. Ensure that the inverted dictionary correctly handles cases where multiple keys have the same value by storing the keys as a list in the inverted dictionary."
   ]
  },
  {
   "cell_type": "code",
   "execution_count": 10,
   "metadata": {},
   "outputs": [
    {
     "data": {
      "text/plain": [
       "{1: ['a', 'c'], 2: ['b']}"
      ]
     },
     "execution_count": 10,
     "metadata": {},
     "output_type": "execute_result"
    }
   ],
   "source": [
    "def invert_dict(d):\n",
    "    inverted={}\n",
    "    for k, v in d.items():\n",
    "        if v in inverted:\n",
    "            inverted[v].append(k)\n",
    "        else:\n",
    "            inverted[v]=[k]\n",
    "    return inverted\n",
    "\n",
    "#Example\n",
    "invert_dict({\"a\":1, \"b\": 2, \"c\":1})"
   ]
  }
 ],
 "metadata": {
  "kernelspec": {
   "display_name": "Python 3",
   "language": "python",
   "name": "python3"
  },
  "language_info": {
   "codemirror_mode": {
    "name": "ipython",
    "version": 3
   },
   "file_extension": ".py",
   "mimetype": "text/x-python",
   "name": "python",
   "nbconvert_exporter": "python",
   "pygments_lexer": "ipython3",
   "version": "3.12.1"
  }
 },
 "nbformat": 4,
 "nbformat_minor": 2
}
